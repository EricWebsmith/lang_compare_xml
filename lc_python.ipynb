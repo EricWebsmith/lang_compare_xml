{
 "cells": [
  {
   "cell_type": "code",
   "execution_count": 2,
   "metadata": {},
   "outputs": [],
   "source": [
    "from lxml import etree\n",
    "import pandas as pd\n",
    "import numpy as np\n",
    "class BbcNewsItem():\n",
    "    category=\"\"\n",
    "    text=\"\""
   ]
  },
  {
   "cell_type": "code",
   "execution_count": null,
   "metadata": {},
   "outputs": [],
   "source": []
  },
  {
   "cell_type": "code",
   "execution_count": 42,
   "metadata": {},
   "outputs": [],
   "source": [
    "def read_xml():\n",
    "    doc = etree.parse(\"D:/tmp/bbc_text/bbc-text.xml\")\n",
    "    root=doc.getroot()\n",
    "    #news_items =[]\n",
    "    df = pd.DataFrame()\n",
    "    for news_item_xml in root.getchildren():\n",
    "        item = BbcNewsItem()\n",
    "        item.text=news_item_xml.text\n",
    "        item.category = news_item_xml.attrib['category']\n",
    "        df=df.append({\"category\":item.category, \"text\":item.text}, ignore_index=True)\n",
    "    df.to_csv(\"D:/tmp/bbc_text/bbc_text_python.csv\")"
   ]
  },
  {
   "cell_type": "code",
   "execution_count": 43,
   "metadata": {},
   "outputs": [
    {
     "name": "stdout",
     "output_type": "stream",
     "text": [
      "3.74 s ± 295 ms per loop (mean ± std. dev. of 7 runs, 1 loop each)\n"
     ]
    }
   ],
   "source": [
    "%timeit read_xml()"
   ]
  },
  {
   "cell_type": "code",
   "execution_count": 57,
   "metadata": {},
   "outputs": [],
   "source": [
    "def read_xml2():\n",
    "    doc = etree.parse(\"D:/tmp/bbc_text/bbc-text.xml\")\n",
    "    root=doc.getroot()\n",
    "    news_items =[]\n",
    "    df = pd.DataFrame()\n",
    "    for news_item_xml in root.getchildren():\n",
    "        item = BbcNewsItem()\n",
    "        item.text=news_item_xml.text\n",
    "        item.category = news_item_xml.attrib['category']\n",
    "        news_items.append(item)\n",
    "        #df=df.append({\"category\":item.category, \"text\":item.text}, ignore_index=True)\n",
    "    df = pd.DataFrame()\n",
    "    df['category'] = [item.category for item in news_items]\n",
    "    df['text'] = [ item.text for item in news_items]\n",
    "    df.to_csv(\"D:/tmp/bbc_text/bbc_text_python.csv\")"
   ]
  },
  {
   "cell_type": "code",
   "execution_count": 58,
   "metadata": {},
   "outputs": [
    {
     "name": "stdout",
     "output_type": "stream",
     "text": [
      "133 ms ± 7.18 ms per loop (mean ± std. dev. of 7 runs, 10 loops each)\n"
     ]
    }
   ],
   "source": [
    "%timeit read_xml2()"
   ]
  },
  {
   "cell_type": "code",
   "execution_count": 19,
   "metadata": {},
   "outputs": [],
   "source": [
    "def read_xml3():\n",
    "    doc = etree.parse(\"D:/tmp/bbc_text/bbc-text.xml\")\n",
    "    root=doc.getroot()\n",
    "    news_items =[]\n",
    "    with open(\"D:/tmp/bbc_text/bbc_text_python.csv\", \"w\", encoding=\"utf-8\") as f:\n",
    "        f.write(\"category,text\\n\")\n",
    "        for news_item_xml in root.getchildren():\n",
    "            f.write(news_item_xml.attrib['category'])\n",
    "            f.write(\",\")\n",
    "            f.write(news_item_xml.text.replace('\"','\"\"'))\n",
    "            f.write(\"\\n\")\n",
    "        f.flush()\n",
    "        f.close()"
   ]
  },
  {
   "cell_type": "code",
   "execution_count": 20,
   "metadata": {},
   "outputs": [
    {
     "name": "stdout",
     "output_type": "stream",
     "text": [
      "36.2 ms ± 2.21 ms per loop (mean ± std. dev. of 7 runs, 10 loops each)\n"
     ]
    }
   ],
   "source": [
    "%timeit read_xml3()"
   ]
  },
  {
   "cell_type": "code",
   "execution_count": 53,
   "metadata": {},
   "outputs": [
    {
     "data": {
      "text/plain": [
       "33.097345132743364"
      ]
     },
     "execution_count": 53,
     "metadata": {},
     "output_type": "execute_result"
    }
   ],
   "source": [
    "3.74/0.113"
   ]
  },
  {
   "cell_type": "code",
   "execution_count": 4,
   "metadata": {},
   "outputs": [],
   "source": [
    "df_compare = pd.DataFrame()\n",
    "def log_lang(lang_name, a):\n",
    "    a=np.array(a)\n",
    "    mean = a.mean()\n",
    "    std = a.std()\n",
    "    global df_compare\n",
    "    df_compare = df_compare.append({\"language\":lang_name, \"mean\":mean, \"std\":std}, ignore_index=True)"
   ]
  },
  {
   "cell_type": "code",
   "execution_count": 8,
   "metadata": {},
   "outputs": [],
   "source": [
    "df_compare = pd.DataFrame()\n",
    "df_compare = df_compare.append({\"language\":\"python lxml\", \"mean\":36.2, \"std\":2.2}, ignore_index=True)\n",
    "log_lang(\"c# .net core xml reader\", [87, 86, 85, 89, 89, 85, 86, 85, 90, 86])\n",
    "log_lang(\"c# .net core xml document\", [93, 116, 87, 90, 89, 89, 89, 84, 79, 82])\n",
    "log_lang(\"c# .net framework xml document\", [64, 62, 56, 61, 55])\n",
    "log_lang(\"c# .net framework xml reader\", [54, 56, 53, 53, 55, 53, 51, 53, 51, 50])\n",
    "log_lang(\"c++ pugixml\", [33, 35, 36, 37, 33])\n",
    "log_lang(\"java\", [203, 191, 199, 192, 217, 218, 204, 213, 193, 190])\n",
    "log_lang(\"go\", [139, 140, 139, 146, 141, 138, 148, 147, 146, 148])"
   ]
  },
  {
   "cell_type": "code",
   "execution_count": 9,
   "metadata": {},
   "outputs": [],
   "source": [
    "df_compare.sort_values(by=\"mean\", inplace=True)"
   ]
  },
  {
   "cell_type": "code",
   "execution_count": 10,
   "metadata": {},
   "outputs": [
    {
     "data": {
      "text/html": [
       "<div>\n",
       "<style scoped>\n",
       "    .dataframe tbody tr th:only-of-type {\n",
       "        vertical-align: middle;\n",
       "    }\n",
       "\n",
       "    .dataframe tbody tr th {\n",
       "        vertical-align: top;\n",
       "    }\n",
       "\n",
       "    .dataframe thead th {\n",
       "        text-align: right;\n",
       "    }\n",
       "</style>\n",
       "<table border=\"1\" class=\"dataframe\">\n",
       "  <thead>\n",
       "    <tr style=\"text-align: right;\">\n",
       "      <th></th>\n",
       "      <th>language</th>\n",
       "      <th>mean</th>\n",
       "      <th>std</th>\n",
       "    </tr>\n",
       "  </thead>\n",
       "  <tbody>\n",
       "    <tr>\n",
       "      <th>0</th>\n",
       "      <td>c++ pugixml</td>\n",
       "      <td>34.8</td>\n",
       "      <td>1.600000</td>\n",
       "    </tr>\n",
       "    <tr>\n",
       "      <th>1</th>\n",
       "      <td>python lxml</td>\n",
       "      <td>36.2</td>\n",
       "      <td>2.200000</td>\n",
       "    </tr>\n",
       "    <tr>\n",
       "      <th>2</th>\n",
       "      <td>c# .net framework xml reader</td>\n",
       "      <td>52.9</td>\n",
       "      <td>1.757840</td>\n",
       "    </tr>\n",
       "    <tr>\n",
       "      <th>3</th>\n",
       "      <td>c# .net framework xml document</td>\n",
       "      <td>59.6</td>\n",
       "      <td>3.498571</td>\n",
       "    </tr>\n",
       "    <tr>\n",
       "      <th>4</th>\n",
       "      <td>c# .net core xml reader</td>\n",
       "      <td>86.8</td>\n",
       "      <td>1.777639</td>\n",
       "    </tr>\n",
       "    <tr>\n",
       "      <th>5</th>\n",
       "      <td>c# .net core xml document</td>\n",
       "      <td>89.8</td>\n",
       "      <td>9.579144</td>\n",
       "    </tr>\n",
       "    <tr>\n",
       "      <th>6</th>\n",
       "      <td>go</td>\n",
       "      <td>143.2</td>\n",
       "      <td>3.919184</td>\n",
       "    </tr>\n",
       "    <tr>\n",
       "      <th>7</th>\n",
       "      <td>java</td>\n",
       "      <td>202.0</td>\n",
       "      <td>10.305338</td>\n",
       "    </tr>\n",
       "  </tbody>\n",
       "</table>\n",
       "</div>"
      ],
      "text/plain": [
       "                         language   mean        std\n",
       "0                     c++ pugixml   34.8   1.600000\n",
       "1                     python lxml   36.2   2.200000\n",
       "2    c# .net framework xml reader   52.9   1.757840\n",
       "3  c# .net framework xml document   59.6   3.498571\n",
       "4         c# .net core xml reader   86.8   1.777639\n",
       "5       c# .net core xml document   89.8   9.579144\n",
       "6                              go  143.2   3.919184\n",
       "7                            java  202.0  10.305338"
      ]
     },
     "execution_count": 10,
     "metadata": {},
     "output_type": "execute_result"
    }
   ],
   "source": [
    "df_compare.reset_index(drop=True)"
   ]
  },
  {
   "cell_type": "code",
   "execution_count": null,
   "metadata": {},
   "outputs": [],
   "source": []
  }
 ],
 "metadata": {
  "kernelspec": {
   "display_name": "Python 3",
   "language": "python",
   "name": "python3"
  },
  "language_info": {
   "codemirror_mode": {
    "name": "ipython",
    "version": 3
   },
   "file_extension": ".py",
   "mimetype": "text/x-python",
   "name": "python",
   "nbconvert_exporter": "python",
   "pygments_lexer": "ipython3",
   "version": "3.8.5"
  }
 },
 "nbformat": 4,
 "nbformat_minor": 4
}
